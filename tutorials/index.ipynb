{
  "cells": [
    {
      "cell_type": "markdown",
      "metadata": {
        "pycharm": {
          "name": "#%% md\n"
        }
      },
      "source": "\u003cp align\u003d\"center\"\u003e\n  \u003cimg src\u003d\"figs/logo.png\" alt\u003d\"HTCondor Logo\"/\u003e\n\u003c/p\u003e\n\nHTCondor Python Bindings Tutorial\n\u003d\u003d\u003d\u003d\u003d\u003d\u003d\u003d\u003d\u003d\u003d\u003d\u003d\u003d\u003d\u003d\u003d\u003d\u003d\u003d\u003d\u003d\u003d\u003d\u003d\u003d\u003d\u003d\u003d\u003d\u003d\u003d\u003d\u003d\u003d\u003d\u003d\u003d\u003d\n\nThe HTCondor python bindings provide a powerful mechanism to interact with HTCondor from a python program.  They utilize the same C-- libraries as HTCondor itself, meaning they have nearly the same behavior as the command line tools.\n\nHere, you will learn the basics of the python bindings and how to use them.  This tutorial is broken down into two major sections:\n\n- **Introduction**, a quick overview of the major components.  Each learning module is meant to be done in sequence.  Start here if you have never used the bindings before.\n- **Advanced**, an in-depth examination of the nooks and crannies of the system.  Each module is standalone; read only those that look interesting to you.\n\nIntroduction\n------------\n\n1.  [ClassAds Introduction](introductory/ClassAds-Introduction.ipynb).  The essentials of the ClassAd language. \n1.  [HTCondor Introduction](introductory/HTCondor-Introduction.ipynb).  How to interact with the individual HTCondor daemons.\n1.  [Submitting and Managing Jobs](introductory/Submitting-and-Managing-Jobs.ipynb).  Running jobs from python.\n\nAdvanced\n--------\n\n1.  [Advanced Schedd Interaction](advanced/Advanced-Schedd-Interactions.ipynb).  Performing transactions in the schedd and querying history.\n1.  [Interacting with daemons](advanced/Interacting-With-Daemons.ipynb).  Generic commands that work with any HTCondor daemon.\n1.  [Scalable job tracking](advanced/Scalable-Job-Tracking.ipynb).  Techniques for keeping close track of many jobs without overloading the schedd."
    },
    {
      "cell_type": "code",
      "execution_count": null,
      "metadata": {
        "pycharm": {
          "metadata": false,
          "name": "#%%\n"
        }
      },
      "outputs": [],
      "source": []
    }
  ],
  "metadata": {
    "kernelspec": {
      "display_name": "Python 3",
      "language": "python",
      "name": "python3"
    },
    "language_info": {
      "codemirror_mode": {
        "name": "ipython",
        "version": 3
      },
      "file_extension": ".py",
      "mimetype": "text/x-python",
      "name": "python",
      "nbconvert_exporter": "python",
      "pygments_lexer": "ipython3",
      "version": "3.7.3"
    }
  },
  "nbformat": 4,
  "nbformat_minor": 2
}