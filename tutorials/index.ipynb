{
 "cells": [
  {
   "cell_type": "markdown",
   "metadata": {
    "pycharm": {
     "name": "#%% md\n"
    }
   },
   "source": [
    "<p align=\"center\">\n",
    "  <img src=\"figs/logo.png\" alt=\"HTCondor Logo\"/>\n",
    "</p>\n",
    "\n",
    "# HTCondor Python Bindings Tutorials\n",
    "\n",
    "The HTCondor Python bindings provide a powerful mechanism to interact with HTCondor from a Python program.\n",
    "They utilize the same C++ libraries as HTCondor itself, meaning they have nearly the same behavior as the command line tools.\n",
    "\n",
    "Here, you will learn the basics of the Python bindings and how to use them. \n",
    "This tutorial is broken down into two major sections:\n",
    "\n",
    "- **Introduction**, a quick overview of the major components.  Each learning module is meant to be done in sequence.  Start here if you have never used the bindings before.\n",
    "- **Advanced**, an in-depth examination of the nooks and crannies of the system.  Each module is standalone; read only those that look interesting to you.\n",
    "\n",
    "## Introduction\n",
    "\n",
    "1.  [ClassAds Introduction](introductory/ClassAds-Introduction.ipynb) - The essentials of the ClassAd language. \n",
    "1.  [HTCondor Introduction](introductory/HTCondor-Introduction.ipynb) -  How to interact with the individual HTCondor daemons.\n",
    "1.  [Submitting and Managing Jobs](introductory/Submitting-and-Managing-Jobs.ipynb) - Running jobs from Python.\n",
    "\n",
    "## Advanced\n",
    "\n",
    "1.  [Advanced Schedd Interaction](advanced/Advanced-Schedd-Interactions.ipynb) - Performing transactions in the schedd and querying history.\n",
    "1.  [Interacting with daemons](advanced/Interacting-With-Daemons.ipynb) - Generic commands that work with any HTCondor daemon.\n",
    "1.  [Scalable job tracking](advanced/Scalable-Job-Tracking.ipynb) - Techniques for keeping close track of many jobs without overloading the schedd.\n"
   ]
  }
 ],
 "metadata": {
  "kernelspec": {
   "display_name": "Python 3",
   "language": "python",
   "name": "python3"
  },
  "language_info": {
   "codemirror_mode": {
    "name": "ipython",
    "version": 3
   },
   "file_extension": ".py",
   "mimetype": "text/x-python",
   "name": "python",
   "nbconvert_exporter": "python",
   "pygments_lexer": "ipython3",
   "version": "3.7.3"
  }
 },
 "nbformat": 4,
 "nbformat_minor": 2
}
